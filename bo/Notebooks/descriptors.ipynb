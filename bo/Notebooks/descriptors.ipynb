{
 "cells": [
  {
   "cell_type": "code",
   "execution_count": 1,
   "outputs": [],
   "source": [
    "import pandas as pd\n",
    "from scipy.spatial import distance\n",
    "import rdkit as rd\n",
    "from rdkit.Chem import Descriptors"
   ],
   "metadata": {
    "collapsed": false,
    "pycharm": {
     "name": "#%%\n"
    }
   }
  },
  {
   "cell_type": "code",
   "execution_count": 2,
   "outputs": [],
   "source": [
    "def smiles_to_desc(s):\n",
    "    m = rd.Chem.MolFromSmiles(s)\n",
    "    molweight_desc = Descriptors.MolWt(m)\n",
    "    rotatable_desc = Descriptors.NumRotatableBonds(m)\n",
    "    logp_desc = Descriptors.MolLogP(m) # less reliable\n",
    "    qed_desc = Descriptors.qed(m)\n",
    "    return [molweight_desc, rotatable_desc, logp_desc, qed_desc]"
   ],
   "metadata": {
    "collapsed": false,
    "pycharm": {
     "name": "#%%\n"
    }
   }
  },
  {
   "cell_type": "code",
   "execution_count": 15,
   "outputs": [],
   "source": [
    "def desc_to_smiles(d, p):\n",
    "    dsts = pd.DataFrame(\n",
    "        [distance.euclidean(d.iloc[i, 1:], p) for i in range(d.shape[0])]\n",
    "    )\n",
    "    dsts.columns = ['distance_ligands']\n",
    "    d = pd.concat([d, dsts], axis=1)\n",
    "    m = d['ligands'][d['distance_ligands'].argmin()]\n",
    "    return m"
   ],
   "metadata": {
    "collapsed": false,
    "pycharm": {
     "name": "#%%\n"
    }
   }
  },
  {
   "cell_type": "code",
   "execution_count": 16,
   "outputs": [],
   "source": [
    "data = pd.DataFrame({\"ligands\": ['CC(N(C)C)=O',\n",
    "                                'CCCC#N',\n",
    "                                'CCCCOC(C)=O',\n",
    "                                'CC1=CC=C(C)C=C1',\n",
    "                                'CC(C)C1=CC(C(C)C)=C(C(C(C)C)=C1)C2=C(P(C3CCCCC3)C4CCCCC4)C(OC)=CC=C2OC',\n",
    "                                'CC(C)(C)P(C1=CC=CC=C1)C(C)(C)C',\n",
    "                                'CN(C)C1=CC=CC(N(C)C)=C1C2=CC=CC=C2P(C(C)(C)C)C3=CC=CC=C3',\n",
    "                                'P(C1CCCCC1)(C2CCCCC2)C3CCCCC3',\n",
    "                                'P(C1=CC=CC=C1)(C2=CC=CC=C2)C3=CC=CC=C3',\n",
    "                                'CC(C1=C(C2=CC=CC=C2P(C3CCCCC3)C4CCCCC4)C(C(C)C)=CC(C(C)C)=C1)C',\n",
    "                                'P(C1=CC=CO1)(C2=CC=CO2)C3=CC=CO3',\n",
    "                                'CP(C1=CC=CC=C1)C2=CC=CC=C2',\n",
    "                                'CC(OC1=C(P(C2CCCCC2)C3CCCCC3)C(OC(C)C)=CC=C1)C',\n",
    "                                'FC(F)(F)C1=CC(P(C2=C(C3=C(C(C)C)C=C(C(C)C)C=C3C(C)C)C(OC)=CC=C2OC)C4=CC(C(F)(F)F)=CC(C(F)(F)F)=C4)=CC(C(F)(F)F)=C1',\n",
    "                                'C[C@]1(O2)O[C@](C[C@]2(C)P3C4=CC=CC=C4)(C)O[C@]3(C)C1',\n",
    "                                'CP(C)C1=CC=CC=C1']})\n",
    "\n",
    "desc = pd.DataFrame([smiles_to_desc(data['ligands'][i]) for i in range(data.shape[0])])\n",
    "full_data = pd.concat([data, desc], axis=1)\n",
    "full_data.columns = [data.columns[0], f'mol_weight_{data.columns[0]}', f'rotatable_{data.columns[0]}', f'logp_{data.columns[0]}', f'qed_{data.columns[0]}']"
   ],
   "metadata": {
    "collapsed": false,
    "pycharm": {
     "name": "#%%\n"
    }
   }
  },
  {
   "cell_type": "code",
   "execution_count": 17,
   "outputs": [
    {
     "data": {
      "text/plain": "[87.12199999999999, 0, 0.09450000000000003, 0.40990688283686294]"
     },
     "execution_count": 17,
     "metadata": {},
     "output_type": "execute_result"
    }
   ],
   "source": [
    "smiles_to_desc('CC(N(C)C)=O')"
   ],
   "metadata": {
    "collapsed": false,
    "pycharm": {
     "name": "#%%\n"
    }
   }
  },
  {
   "cell_type": "code",
   "execution_count": 18,
   "outputs": [
    {
     "data": {
      "text/plain": "'CC(N(C)C)=O'"
     },
     "execution_count": 18,
     "metadata": {},
     "output_type": "execute_result"
    }
   ],
   "source": [
    "point = [87.12199999999999, 0, 0.09450000000000003, 0.40990688283686294]\n",
    "best_smile = desc_to_smiles(full_data, point)\n",
    "best_smile"
   ],
   "metadata": {
    "collapsed": false,
    "pycharm": {
     "name": "#%%\n"
    }
   }
  },
  {
   "cell_type": "code",
   "execution_count": 19,
   "outputs": [
    {
     "data": {
      "text/plain": "                                              ligands  mol_weight_ligands  \\\n0                                         CC(N(C)C)=O              87.122   \n1                                              CCCC#N              69.107   \n2                                         CCCCOC(C)=O             116.160   \n3                                     CC1=CC=C(C)C=C1             106.168   \n4   CC(C)C1=CC(C(C)C)=C(C(C(C)C)=C1)C2=C(P(C3CCCCC...             536.781   \n5                      CC(C)(C)P(C1=CC=CC=C1)C(C)(C)C             222.312   \n6   CN(C)C1=CC=CC(N(C)C)=C1C2=CC=CC=C2P(C(C)(C)C)C...             404.538   \n7                       P(C1CCCCC1)(C2CCCCC2)C3CCCCC3             280.436   \n8              P(C1=CC=CC=C1)(C2=CC=CC=C2)C3=CC=CC=C3             262.292   \n9   CC(C1=C(C2=CC=CC=C2P(C3CCCCC3)C4CCCCC4)C(C(C)C...             476.729   \n10                   P(C1=CC=CO1)(C2=CC=CO2)C3=CC=CO3             232.175   \n11                         CP(C1=CC=CC=C1)C2=CC=CC=C2             200.221   \n12     CC(OC1=C(P(C2CCCCC2)C3CCCCC3)C(OC(C)C)=CC=C1)C             390.548   \n13  FC(F)(F)C1=CC(P(C2=C(C3=C(C(C)C)C=C(C(C)C)C=C3...             796.673   \n14  C[C@]1(O2)O[C@](C[C@]2(C)P3C4=CC=CC=C4)(C)O[C@...             292.315   \n15                                   CP(C)C1=CC=CC=C1             138.150   \n\n    rotatable_ligands  logp_ligands  qed_ligands  \n0                   0       0.09450     0.409907  \n1                   1       1.31008     0.455070  \n2                   3       1.34960     0.410684  \n3                   0       2.30344     0.475758  \n4                   9      10.51360     0.296776  \n5                   1       4.39080     0.618066  \n6                   5       5.71680     0.502186  \n7                   3       6.46640     0.519846  \n8                   3       3.44480     0.634212  \n9                   7      10.49640     0.348576  \n10                  3       2.22380     0.649818  \n11                  2       2.74910     0.653757  \n12                  7       7.03360     0.465138  \n13                  9      12.57440     0.124073  \n14                  1       3.52940     0.741124  \n15                  1       2.05340     0.520857  ",
      "text/html": "<div>\n<style scoped>\n    .dataframe tbody tr th:only-of-type {\n        vertical-align: middle;\n    }\n\n    .dataframe tbody tr th {\n        vertical-align: top;\n    }\n\n    .dataframe thead th {\n        text-align: right;\n    }\n</style>\n<table border=\"1\" class=\"dataframe\">\n  <thead>\n    <tr style=\"text-align: right;\">\n      <th></th>\n      <th>ligands</th>\n      <th>mol_weight_ligands</th>\n      <th>rotatable_ligands</th>\n      <th>logp_ligands</th>\n      <th>qed_ligands</th>\n    </tr>\n  </thead>\n  <tbody>\n    <tr>\n      <th>0</th>\n      <td>CC(N(C)C)=O</td>\n      <td>87.122</td>\n      <td>0</td>\n      <td>0.09450</td>\n      <td>0.409907</td>\n    </tr>\n    <tr>\n      <th>1</th>\n      <td>CCCC#N</td>\n      <td>69.107</td>\n      <td>1</td>\n      <td>1.31008</td>\n      <td>0.455070</td>\n    </tr>\n    <tr>\n      <th>2</th>\n      <td>CCCCOC(C)=O</td>\n      <td>116.160</td>\n      <td>3</td>\n      <td>1.34960</td>\n      <td>0.410684</td>\n    </tr>\n    <tr>\n      <th>3</th>\n      <td>CC1=CC=C(C)C=C1</td>\n      <td>106.168</td>\n      <td>0</td>\n      <td>2.30344</td>\n      <td>0.475758</td>\n    </tr>\n    <tr>\n      <th>4</th>\n      <td>CC(C)C1=CC(C(C)C)=C(C(C(C)C)=C1)C2=C(P(C3CCCCC...</td>\n      <td>536.781</td>\n      <td>9</td>\n      <td>10.51360</td>\n      <td>0.296776</td>\n    </tr>\n    <tr>\n      <th>5</th>\n      <td>CC(C)(C)P(C1=CC=CC=C1)C(C)(C)C</td>\n      <td>222.312</td>\n      <td>1</td>\n      <td>4.39080</td>\n      <td>0.618066</td>\n    </tr>\n    <tr>\n      <th>6</th>\n      <td>CN(C)C1=CC=CC(N(C)C)=C1C2=CC=CC=C2P(C(C)(C)C)C...</td>\n      <td>404.538</td>\n      <td>5</td>\n      <td>5.71680</td>\n      <td>0.502186</td>\n    </tr>\n    <tr>\n      <th>7</th>\n      <td>P(C1CCCCC1)(C2CCCCC2)C3CCCCC3</td>\n      <td>280.436</td>\n      <td>3</td>\n      <td>6.46640</td>\n      <td>0.519846</td>\n    </tr>\n    <tr>\n      <th>8</th>\n      <td>P(C1=CC=CC=C1)(C2=CC=CC=C2)C3=CC=CC=C3</td>\n      <td>262.292</td>\n      <td>3</td>\n      <td>3.44480</td>\n      <td>0.634212</td>\n    </tr>\n    <tr>\n      <th>9</th>\n      <td>CC(C1=C(C2=CC=CC=C2P(C3CCCCC3)C4CCCCC4)C(C(C)C...</td>\n      <td>476.729</td>\n      <td>7</td>\n      <td>10.49640</td>\n      <td>0.348576</td>\n    </tr>\n    <tr>\n      <th>10</th>\n      <td>P(C1=CC=CO1)(C2=CC=CO2)C3=CC=CO3</td>\n      <td>232.175</td>\n      <td>3</td>\n      <td>2.22380</td>\n      <td>0.649818</td>\n    </tr>\n    <tr>\n      <th>11</th>\n      <td>CP(C1=CC=CC=C1)C2=CC=CC=C2</td>\n      <td>200.221</td>\n      <td>2</td>\n      <td>2.74910</td>\n      <td>0.653757</td>\n    </tr>\n    <tr>\n      <th>12</th>\n      <td>CC(OC1=C(P(C2CCCCC2)C3CCCCC3)C(OC(C)C)=CC=C1)C</td>\n      <td>390.548</td>\n      <td>7</td>\n      <td>7.03360</td>\n      <td>0.465138</td>\n    </tr>\n    <tr>\n      <th>13</th>\n      <td>FC(F)(F)C1=CC(P(C2=C(C3=C(C(C)C)C=C(C(C)C)C=C3...</td>\n      <td>796.673</td>\n      <td>9</td>\n      <td>12.57440</td>\n      <td>0.124073</td>\n    </tr>\n    <tr>\n      <th>14</th>\n      <td>C[C@]1(O2)O[C@](C[C@]2(C)P3C4=CC=CC=C4)(C)O[C@...</td>\n      <td>292.315</td>\n      <td>1</td>\n      <td>3.52940</td>\n      <td>0.741124</td>\n    </tr>\n    <tr>\n      <th>15</th>\n      <td>CP(C)C1=CC=CC=C1</td>\n      <td>138.150</td>\n      <td>1</td>\n      <td>2.05340</td>\n      <td>0.520857</td>\n    </tr>\n  </tbody>\n</table>\n</div>"
     },
     "execution_count": 19,
     "metadata": {},
     "output_type": "execute_result"
    }
   ],
   "source": [
    "full_data"
   ],
   "metadata": {
    "collapsed": false,
    "pycharm": {
     "name": "#%%\n"
    }
   }
  },
  {
   "cell_type": "code",
   "execution_count": null,
   "outputs": [],
   "source": [],
   "metadata": {
    "collapsed": false,
    "pycharm": {
     "name": "#%%\n"
    }
   }
  }
 ],
 "metadata": {
  "kernelspec": {
   "display_name": "Python 3",
   "language": "python",
   "name": "python3"
  },
  "language_info": {
   "codemirror_mode": {
    "name": "ipython",
    "version": 2
   },
   "file_extension": ".py",
   "mimetype": "text/x-python",
   "name": "python",
   "nbconvert_exporter": "python",
   "pygments_lexer": "ipython2",
   "version": "2.7.6"
  }
 },
 "nbformat": 4,
 "nbformat_minor": 0
}
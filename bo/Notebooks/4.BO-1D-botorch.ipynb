{
 "cells": [
  {
   "cell_type": "code",
   "execution_count": 15,
   "metadata": {
    "collapsed": true
   },
   "outputs": [
    {
     "name": "stdout",
     "output_type": "stream",
     "text": [
      "0\n"
     ]
    }
   ],
   "source": [
    "import torch\n",
    "import numpy as np\n",
    "import warnings\n",
    "warnings.filterwarnings('ignore')\n",
    "import plotly.graph_objects as go\n",
    "\n",
    "from botorch.models import SingleTaskGP, ModelListGP\n",
    "from gpytorch.mlls.exact_marginal_log_likelihood import ExactMarginalLogLikelihood\n",
    "from botorch import fit_gpytorch_model\n",
    "from botorch.acquisition.monte_carlo import qExpectedImprovement\n",
    "from botorch.optim import optimize_acqf\n",
    "print(0)"
   ]
  },
  {
   "cell_type": "code",
   "execution_count": 16,
   "outputs": [],
   "source": [
    "def target_function1d(individuals):\n",
    "    result = []\n",
    "    for x in individuals:\n",
    "        result.append(\n",
    "            np.exp(-(x[0] - 2)**2) + np.exp(-(x[0] - 6)**2/10) + 1/ (x[0]**2 + 1)\n",
    "        )\n",
    "    return torch.tensor(result)"
   ],
   "metadata": {
    "collapsed": false,
    "pycharm": {
     "name": "#%%\n"
    }
   }
  },
  {
   "cell_type": "code",
   "execution_count": 17,
   "outputs": [
    {
     "data": {
      "application/vnd.plotly.v1+json": {
       "data": [
        {
         "x": [
          -2.0,
          -1.878787878787879,
          -1.7575757575757576,
          -1.6363636363636362,
          -1.5151515151515151,
          -1.393939393939394,
          -1.2727272727272727,
          -1.1515151515151514,
          -1.0303030303030303,
          -0.9090909090909092,
          -0.7878787878787878,
          -0.6666666666666665,
          -0.5454545454545454,
          -0.4242424242424243,
          -0.303030303030303,
          -0.18181818181818166,
          -0.06060606060606055,
          0.06060606060606055,
          0.18181818181818166,
          0.3030303030303032,
          0.4242424242424243,
          0.5454545454545454,
          0.666666666666667,
          0.7878787878787881,
          0.9090909090909092,
          1.0303030303030303,
          1.1515151515151514,
          1.272727272727273,
          1.393939393939394,
          1.5151515151515151,
          1.6363636363636367,
          1.7575757575757578,
          1.878787878787879,
          2.0,
          2.121212121212121,
          2.242424242424242,
          2.3636363636363633,
          2.4848484848484853,
          2.6060606060606064,
          2.7272727272727275,
          2.8484848484848486,
          2.9696969696969697,
          3.090909090909091,
          3.212121212121212,
          3.333333333333334,
          3.454545454545455,
          3.575757575757576,
          3.6969696969696972,
          3.8181818181818183,
          3.9393939393939394,
          4.0606060606060606,
          4.181818181818182,
          4.303030303030303,
          4.424242424242425,
          4.545454545454546,
          4.666666666666667,
          4.787878787878788,
          4.909090909090909,
          5.03030303030303,
          5.151515151515151,
          5.272727272727273,
          5.3939393939393945,
          5.515151515151516,
          5.636363636363637,
          5.757575757575758,
          5.878787878787879,
          6.0,
          6.121212121212121,
          6.242424242424242,
          6.363636363636363,
          6.484848484848484,
          6.6060606060606055,
          6.727272727272727,
          6.8484848484848495,
          6.969696969696971,
          7.090909090909092,
          7.212121212121213,
          7.333333333333334,
          7.454545454545455,
          7.575757575757576,
          7.696969696969697,
          7.818181818181818,
          7.9393939393939394,
          8.06060606060606,
          8.181818181818182,
          8.303030303030303,
          8.424242424242424,
          8.545454545454545,
          8.666666666666668,
          8.787878787878789,
          8.90909090909091,
          9.030303030303031,
          9.151515151515152,
          9.272727272727273,
          9.393939393939394,
          9.515151515151516,
          9.636363636363637,
          9.757575757575758,
          9.878787878787879,
          10.0
         ],
         "y": [
          0.20166166980834865,
          0.2227726585074459,
          0.24698950932968822,
          0.27484587263046634,
          0.30695688037124635,
          0.34401527376104096,
          0.38677128577194875,
          0.43598306328371733,
          0.49231736937667364,
          0.5561727868185277,
          0.6273948550927431,
          0.704867308599786,
          0.7860187626521297,
          0.866403898892028,
          0.9396879357226254,
          0.998457983534917,
          1.036058111620751,
          1.048969184304043,
          1.038543852611951,
          1.0109942498109652,
          0.9756119122931862,
          0.9422861019634152,
          0.9194875802414343,
          0.9131956988102726,
          0.9265973880035322,
          0.9601865717525873,
          1.0120077576640873,
          1.0779642475136786,
          1.152219070352027,
          1.2277392995131067,
          1.297000183535863,
          1.352807557590698,
          1.3891421149884113,
          1.4018965179946554,
          1.389376821385292,
          1.3524744399542445,
          1.2944754036591077,
          1.2205441046400929,
          1.1369806929800221,
          1.0503891522493805,
          0.9668987143706502,
          0.8915558424481038,
          0.8279569020385253,
          0.7781368125597172,
          0.7426803522476706,
          0.720990369616301,
          0.711634919034226,
          0.7127014103086419,
          0.7221043360972108,
          0.7378166546432452,
          0.7580169653915526,
          0.7811610251874737,
          0.8059953721676484,
          0.8315334798271921,
          0.8570128372886326,
          0.8818468582202262,
          0.9055804429649562,
          0.9278535906736939,
          0.9483742472652474,
          0.9668996387639034,
          0.9832244435948262,
          0.9971739648056862,
          1.008600659401167,
          1.017382733378095,
          1.0234238745832336,
          1.0266535020367373,
          1.0270271395622017,
          1.0245266792860257,
          1.0191604028132226,
          1.0109626916279608,
          0.9999933973957257,
          0.9863368671934787,
          0.9701006345372299,
          0.9514137980820534,
          0.930425118016756,
          0.907300866444153,
          0.8822224728664545,
          0.8553840094545131,
          0.8269895631261376,
          0.7972505426134686,
          0.7663829686868397,
          0.7346047945666053,
          0.7021333013646835,
          0.6691826102493174,
          0.6359613490382403,
          0.6026705062345921,
          0.5695015002782348,
          0.5366344861531653,
          0.5042369156335417,
          0.472462361528656,
          0.44144961045641135,
          0.41132202307965615,
          0.38218715550906424,
          0.35413663082094116,
          0.32724624544857367,
          0.30157629164975513,
          0.2771720743764965,
          0.25406459869882997,
          0.2322714024646711,
          0.2117975080936653
         ],
         "type": "scatter"
        }
       ],
       "layout": {
        "template": {
         "data": {
          "bar": [
           {
            "error_x": {
             "color": "#2a3f5f"
            },
            "error_y": {
             "color": "#2a3f5f"
            },
            "marker": {
             "line": {
              "color": "#E5ECF6",
              "width": 0.5
             },
             "pattern": {
              "fillmode": "overlay",
              "size": 10,
              "solidity": 0.2
             }
            },
            "type": "bar"
           }
          ],
          "barpolar": [
           {
            "marker": {
             "line": {
              "color": "#E5ECF6",
              "width": 0.5
             },
             "pattern": {
              "fillmode": "overlay",
              "size": 10,
              "solidity": 0.2
             }
            },
            "type": "barpolar"
           }
          ],
          "carpet": [
           {
            "aaxis": {
             "endlinecolor": "#2a3f5f",
             "gridcolor": "white",
             "linecolor": "white",
             "minorgridcolor": "white",
             "startlinecolor": "#2a3f5f"
            },
            "baxis": {
             "endlinecolor": "#2a3f5f",
             "gridcolor": "white",
             "linecolor": "white",
             "minorgridcolor": "white",
             "startlinecolor": "#2a3f5f"
            },
            "type": "carpet"
           }
          ],
          "choropleth": [
           {
            "colorbar": {
             "outlinewidth": 0,
             "ticks": ""
            },
            "type": "choropleth"
           }
          ],
          "contour": [
           {
            "colorbar": {
             "outlinewidth": 0,
             "ticks": ""
            },
            "colorscale": [
             [
              0.0,
              "#0d0887"
             ],
             [
              0.1111111111111111,
              "#46039f"
             ],
             [
              0.2222222222222222,
              "#7201a8"
             ],
             [
              0.3333333333333333,
              "#9c179e"
             ],
             [
              0.4444444444444444,
              "#bd3786"
             ],
             [
              0.5555555555555556,
              "#d8576b"
             ],
             [
              0.6666666666666666,
              "#ed7953"
             ],
             [
              0.7777777777777778,
              "#fb9f3a"
             ],
             [
              0.8888888888888888,
              "#fdca26"
             ],
             [
              1.0,
              "#f0f921"
             ]
            ],
            "type": "contour"
           }
          ],
          "contourcarpet": [
           {
            "colorbar": {
             "outlinewidth": 0,
             "ticks": ""
            },
            "type": "contourcarpet"
           }
          ],
          "heatmap": [
           {
            "colorbar": {
             "outlinewidth": 0,
             "ticks": ""
            },
            "colorscale": [
             [
              0.0,
              "#0d0887"
             ],
             [
              0.1111111111111111,
              "#46039f"
             ],
             [
              0.2222222222222222,
              "#7201a8"
             ],
             [
              0.3333333333333333,
              "#9c179e"
             ],
             [
              0.4444444444444444,
              "#bd3786"
             ],
             [
              0.5555555555555556,
              "#d8576b"
             ],
             [
              0.6666666666666666,
              "#ed7953"
             ],
             [
              0.7777777777777778,
              "#fb9f3a"
             ],
             [
              0.8888888888888888,
              "#fdca26"
             ],
             [
              1.0,
              "#f0f921"
             ]
            ],
            "type": "heatmap"
           }
          ],
          "heatmapgl": [
           {
            "colorbar": {
             "outlinewidth": 0,
             "ticks": ""
            },
            "colorscale": [
             [
              0.0,
              "#0d0887"
             ],
             [
              0.1111111111111111,
              "#46039f"
             ],
             [
              0.2222222222222222,
              "#7201a8"
             ],
             [
              0.3333333333333333,
              "#9c179e"
             ],
             [
              0.4444444444444444,
              "#bd3786"
             ],
             [
              0.5555555555555556,
              "#d8576b"
             ],
             [
              0.6666666666666666,
              "#ed7953"
             ],
             [
              0.7777777777777778,
              "#fb9f3a"
             ],
             [
              0.8888888888888888,
              "#fdca26"
             ],
             [
              1.0,
              "#f0f921"
             ]
            ],
            "type": "heatmapgl"
           }
          ],
          "histogram": [
           {
            "marker": {
             "pattern": {
              "fillmode": "overlay",
              "size": 10,
              "solidity": 0.2
             }
            },
            "type": "histogram"
           }
          ],
          "histogram2d": [
           {
            "colorbar": {
             "outlinewidth": 0,
             "ticks": ""
            },
            "colorscale": [
             [
              0.0,
              "#0d0887"
             ],
             [
              0.1111111111111111,
              "#46039f"
             ],
             [
              0.2222222222222222,
              "#7201a8"
             ],
             [
              0.3333333333333333,
              "#9c179e"
             ],
             [
              0.4444444444444444,
              "#bd3786"
             ],
             [
              0.5555555555555556,
              "#d8576b"
             ],
             [
              0.6666666666666666,
              "#ed7953"
             ],
             [
              0.7777777777777778,
              "#fb9f3a"
             ],
             [
              0.8888888888888888,
              "#fdca26"
             ],
             [
              1.0,
              "#f0f921"
             ]
            ],
            "type": "histogram2d"
           }
          ],
          "histogram2dcontour": [
           {
            "colorbar": {
             "outlinewidth": 0,
             "ticks": ""
            },
            "colorscale": [
             [
              0.0,
              "#0d0887"
             ],
             [
              0.1111111111111111,
              "#46039f"
             ],
             [
              0.2222222222222222,
              "#7201a8"
             ],
             [
              0.3333333333333333,
              "#9c179e"
             ],
             [
              0.4444444444444444,
              "#bd3786"
             ],
             [
              0.5555555555555556,
              "#d8576b"
             ],
             [
              0.6666666666666666,
              "#ed7953"
             ],
             [
              0.7777777777777778,
              "#fb9f3a"
             ],
             [
              0.8888888888888888,
              "#fdca26"
             ],
             [
              1.0,
              "#f0f921"
             ]
            ],
            "type": "histogram2dcontour"
           }
          ],
          "mesh3d": [
           {
            "colorbar": {
             "outlinewidth": 0,
             "ticks": ""
            },
            "type": "mesh3d"
           }
          ],
          "parcoords": [
           {
            "line": {
             "colorbar": {
              "outlinewidth": 0,
              "ticks": ""
             }
            },
            "type": "parcoords"
           }
          ],
          "pie": [
           {
            "automargin": true,
            "type": "pie"
           }
          ],
          "scatter": [
           {
            "marker": {
             "colorbar": {
              "outlinewidth": 0,
              "ticks": ""
             }
            },
            "type": "scatter"
           }
          ],
          "scatter3d": [
           {
            "line": {
             "colorbar": {
              "outlinewidth": 0,
              "ticks": ""
             }
            },
            "marker": {
             "colorbar": {
              "outlinewidth": 0,
              "ticks": ""
             }
            },
            "type": "scatter3d"
           }
          ],
          "scattercarpet": [
           {
            "marker": {
             "colorbar": {
              "outlinewidth": 0,
              "ticks": ""
             }
            },
            "type": "scattercarpet"
           }
          ],
          "scattergeo": [
           {
            "marker": {
             "colorbar": {
              "outlinewidth": 0,
              "ticks": ""
             }
            },
            "type": "scattergeo"
           }
          ],
          "scattergl": [
           {
            "marker": {
             "colorbar": {
              "outlinewidth": 0,
              "ticks": ""
             }
            },
            "type": "scattergl"
           }
          ],
          "scattermapbox": [
           {
            "marker": {
             "colorbar": {
              "outlinewidth": 0,
              "ticks": ""
             }
            },
            "type": "scattermapbox"
           }
          ],
          "scatterpolar": [
           {
            "marker": {
             "colorbar": {
              "outlinewidth": 0,
              "ticks": ""
             }
            },
            "type": "scatterpolar"
           }
          ],
          "scatterpolargl": [
           {
            "marker": {
             "colorbar": {
              "outlinewidth": 0,
              "ticks": ""
             }
            },
            "type": "scatterpolargl"
           }
          ],
          "scatterternary": [
           {
            "marker": {
             "colorbar": {
              "outlinewidth": 0,
              "ticks": ""
             }
            },
            "type": "scatterternary"
           }
          ],
          "surface": [
           {
            "colorbar": {
             "outlinewidth": 0,
             "ticks": ""
            },
            "colorscale": [
             [
              0.0,
              "#0d0887"
             ],
             [
              0.1111111111111111,
              "#46039f"
             ],
             [
              0.2222222222222222,
              "#7201a8"
             ],
             [
              0.3333333333333333,
              "#9c179e"
             ],
             [
              0.4444444444444444,
              "#bd3786"
             ],
             [
              0.5555555555555556,
              "#d8576b"
             ],
             [
              0.6666666666666666,
              "#ed7953"
             ],
             [
              0.7777777777777778,
              "#fb9f3a"
             ],
             [
              0.8888888888888888,
              "#fdca26"
             ],
             [
              1.0,
              "#f0f921"
             ]
            ],
            "type": "surface"
           }
          ],
          "table": [
           {
            "cells": {
             "fill": {
              "color": "#EBF0F8"
             },
             "line": {
              "color": "white"
             }
            },
            "header": {
             "fill": {
              "color": "#C8D4E3"
             },
             "line": {
              "color": "white"
             }
            },
            "type": "table"
           }
          ]
         },
         "layout": {
          "annotationdefaults": {
           "arrowcolor": "#2a3f5f",
           "arrowhead": 0,
           "arrowwidth": 1
          },
          "autotypenumbers": "strict",
          "coloraxis": {
           "colorbar": {
            "outlinewidth": 0,
            "ticks": ""
           }
          },
          "colorscale": {
           "diverging": [
            [
             0,
             "#8e0152"
            ],
            [
             0.1,
             "#c51b7d"
            ],
            [
             0.2,
             "#de77ae"
            ],
            [
             0.3,
             "#f1b6da"
            ],
            [
             0.4,
             "#fde0ef"
            ],
            [
             0.5,
             "#f7f7f7"
            ],
            [
             0.6,
             "#e6f5d0"
            ],
            [
             0.7,
             "#b8e186"
            ],
            [
             0.8,
             "#7fbc41"
            ],
            [
             0.9,
             "#4d9221"
            ],
            [
             1,
             "#276419"
            ]
           ],
           "sequential": [
            [
             0.0,
             "#0d0887"
            ],
            [
             0.1111111111111111,
             "#46039f"
            ],
            [
             0.2222222222222222,
             "#7201a8"
            ],
            [
             0.3333333333333333,
             "#9c179e"
            ],
            [
             0.4444444444444444,
             "#bd3786"
            ],
            [
             0.5555555555555556,
             "#d8576b"
            ],
            [
             0.6666666666666666,
             "#ed7953"
            ],
            [
             0.7777777777777778,
             "#fb9f3a"
            ],
            [
             0.8888888888888888,
             "#fdca26"
            ],
            [
             1.0,
             "#f0f921"
            ]
           ],
           "sequentialminus": [
            [
             0.0,
             "#0d0887"
            ],
            [
             0.1111111111111111,
             "#46039f"
            ],
            [
             0.2222222222222222,
             "#7201a8"
            ],
            [
             0.3333333333333333,
             "#9c179e"
            ],
            [
             0.4444444444444444,
             "#bd3786"
            ],
            [
             0.5555555555555556,
             "#d8576b"
            ],
            [
             0.6666666666666666,
             "#ed7953"
            ],
            [
             0.7777777777777778,
             "#fb9f3a"
            ],
            [
             0.8888888888888888,
             "#fdca26"
            ],
            [
             1.0,
             "#f0f921"
            ]
           ]
          },
          "colorway": [
           "#636efa",
           "#EF553B",
           "#00cc96",
           "#ab63fa",
           "#FFA15A",
           "#19d3f3",
           "#FF6692",
           "#B6E880",
           "#FF97FF",
           "#FECB52"
          ],
          "font": {
           "color": "#2a3f5f"
          },
          "geo": {
           "bgcolor": "white",
           "lakecolor": "white",
           "landcolor": "#E5ECF6",
           "showlakes": true,
           "showland": true,
           "subunitcolor": "white"
          },
          "hoverlabel": {
           "align": "left"
          },
          "hovermode": "closest",
          "mapbox": {
           "style": "light"
          },
          "paper_bgcolor": "white",
          "plot_bgcolor": "#E5ECF6",
          "polar": {
           "angularaxis": {
            "gridcolor": "white",
            "linecolor": "white",
            "ticks": ""
           },
           "bgcolor": "#E5ECF6",
           "radialaxis": {
            "gridcolor": "white",
            "linecolor": "white",
            "ticks": ""
           }
          },
          "scene": {
           "xaxis": {
            "backgroundcolor": "#E5ECF6",
            "gridcolor": "white",
            "gridwidth": 2,
            "linecolor": "white",
            "showbackground": true,
            "ticks": "",
            "zerolinecolor": "white"
           },
           "yaxis": {
            "backgroundcolor": "#E5ECF6",
            "gridcolor": "white",
            "gridwidth": 2,
            "linecolor": "white",
            "showbackground": true,
            "ticks": "",
            "zerolinecolor": "white"
           },
           "zaxis": {
            "backgroundcolor": "#E5ECF6",
            "gridcolor": "white",
            "gridwidth": 2,
            "linecolor": "white",
            "showbackground": true,
            "ticks": "",
            "zerolinecolor": "white"
           }
          },
          "shapedefaults": {
           "line": {
            "color": "#2a3f5f"
           }
          },
          "ternary": {
           "aaxis": {
            "gridcolor": "white",
            "linecolor": "white",
            "ticks": ""
           },
           "baxis": {
            "gridcolor": "white",
            "linecolor": "white",
            "ticks": ""
           },
           "bgcolor": "#E5ECF6",
           "caxis": {
            "gridcolor": "white",
            "linecolor": "white",
            "ticks": ""
           }
          },
          "title": {
           "x": 0.05
          },
          "xaxis": {
           "automargin": true,
           "gridcolor": "white",
           "linecolor": "white",
           "ticks": "",
           "title": {
            "standoff": 15
           },
           "zerolinecolor": "white",
           "zerolinewidth": 2
          },
          "yaxis": {
           "automargin": true,
           "gridcolor": "white",
           "linecolor": "white",
           "ticks": "",
           "title": {
            "standoff": 15
           },
           "zerolinecolor": "white",
           "zerolinewidth": 2
          }
         }
        },
        "title": {
         "text": "Example 1D"
        },
        "xaxis": {
         "title": {
          "text": "input"
         }
        },
        "yaxis": {
         "title": {
          "text": "output"
         }
        }
       },
       "config": {
        "plotlyServerURL": "https://plot.ly"
       }
      },
      "text/html": "<div>                            <div id=\"5b1f42a5-0bac-476a-9753-dd62f2e83036\" class=\"plotly-graph-div\" style=\"height:525px; width:100%;\"></div>            <script type=\"text/javascript\">                require([\"plotly\"], function(Plotly) {                    window.PLOTLYENV=window.PLOTLYENV || {};                                    if (document.getElementById(\"5b1f42a5-0bac-476a-9753-dd62f2e83036\")) {                    Plotly.newPlot(                        \"5b1f42a5-0bac-476a-9753-dd62f2e83036\",                        [{\"x\":[-2.0,-1.878787878787879,-1.7575757575757576,-1.6363636363636362,-1.5151515151515151,-1.393939393939394,-1.2727272727272727,-1.1515151515151514,-1.0303030303030303,-0.9090909090909092,-0.7878787878787878,-0.6666666666666665,-0.5454545454545454,-0.4242424242424243,-0.303030303030303,-0.18181818181818166,-0.06060606060606055,0.06060606060606055,0.18181818181818166,0.3030303030303032,0.4242424242424243,0.5454545454545454,0.666666666666667,0.7878787878787881,0.9090909090909092,1.0303030303030303,1.1515151515151514,1.272727272727273,1.393939393939394,1.5151515151515151,1.6363636363636367,1.7575757575757578,1.878787878787879,2.0,2.121212121212121,2.242424242424242,2.3636363636363633,2.4848484848484853,2.6060606060606064,2.7272727272727275,2.8484848484848486,2.9696969696969697,3.090909090909091,3.212121212121212,3.333333333333334,3.454545454545455,3.575757575757576,3.6969696969696972,3.8181818181818183,3.9393939393939394,4.0606060606060606,4.181818181818182,4.303030303030303,4.424242424242425,4.545454545454546,4.666666666666667,4.787878787878788,4.909090909090909,5.03030303030303,5.151515151515151,5.272727272727273,5.3939393939393945,5.515151515151516,5.636363636363637,5.757575757575758,5.878787878787879,6.0,6.121212121212121,6.242424242424242,6.363636363636363,6.484848484848484,6.6060606060606055,6.727272727272727,6.8484848484848495,6.969696969696971,7.090909090909092,7.212121212121213,7.333333333333334,7.454545454545455,7.575757575757576,7.696969696969697,7.818181818181818,7.9393939393939394,8.06060606060606,8.181818181818182,8.303030303030303,8.424242424242424,8.545454545454545,8.666666666666668,8.787878787878789,8.90909090909091,9.030303030303031,9.151515151515152,9.272727272727273,9.393939393939394,9.515151515151516,9.636363636363637,9.757575757575758,9.878787878787879,10.0],\"y\":[0.20166166980834865,0.2227726585074459,0.24698950932968822,0.27484587263046634,0.30695688037124635,0.34401527376104096,0.38677128577194875,0.43598306328371733,0.49231736937667364,0.5561727868185277,0.6273948550927431,0.704867308599786,0.7860187626521297,0.866403898892028,0.9396879357226254,0.998457983534917,1.036058111620751,1.048969184304043,1.038543852611951,1.0109942498109652,0.9756119122931862,0.9422861019634152,0.9194875802414343,0.9131956988102726,0.9265973880035322,0.9601865717525873,1.0120077576640873,1.0779642475136786,1.152219070352027,1.2277392995131067,1.297000183535863,1.352807557590698,1.3891421149884113,1.4018965179946554,1.389376821385292,1.3524744399542445,1.2944754036591077,1.2205441046400929,1.1369806929800221,1.0503891522493805,0.9668987143706502,0.8915558424481038,0.8279569020385253,0.7781368125597172,0.7426803522476706,0.720990369616301,0.711634919034226,0.7127014103086419,0.7221043360972108,0.7378166546432452,0.7580169653915526,0.7811610251874737,0.8059953721676484,0.8315334798271921,0.8570128372886326,0.8818468582202262,0.9055804429649562,0.9278535906736939,0.9483742472652474,0.9668996387639034,0.9832244435948262,0.9971739648056862,1.008600659401167,1.017382733378095,1.0234238745832336,1.0266535020367373,1.0270271395622017,1.0245266792860257,1.0191604028132226,1.0109626916279608,0.9999933973957257,0.9863368671934787,0.9701006345372299,0.9514137980820534,0.930425118016756,0.907300866444153,0.8822224728664545,0.8553840094545131,0.8269895631261376,0.7972505426134686,0.7663829686868397,0.7346047945666053,0.7021333013646835,0.6691826102493174,0.6359613490382403,0.6026705062345921,0.5695015002782348,0.5366344861531653,0.5042369156335417,0.472462361528656,0.44144961045641135,0.41132202307965615,0.38218715550906424,0.35413663082094116,0.32724624544857367,0.30157629164975513,0.2771720743764965,0.25406459869882997,0.2322714024646711,0.2117975080936653],\"type\":\"scatter\"}],                        {\"template\":{\"data\":{\"bar\":[{\"error_x\":{\"color\":\"#2a3f5f\"},\"error_y\":{\"color\":\"#2a3f5f\"},\"marker\":{\"line\":{\"color\":\"#E5ECF6\",\"width\":0.5},\"pattern\":{\"fillmode\":\"overlay\",\"size\":10,\"solidity\":0.2}},\"type\":\"bar\"}],\"barpolar\":[{\"marker\":{\"line\":{\"color\":\"#E5ECF6\",\"width\":0.5},\"pattern\":{\"fillmode\":\"overlay\",\"size\":10,\"solidity\":0.2}},\"type\":\"barpolar\"}],\"carpet\":[{\"aaxis\":{\"endlinecolor\":\"#2a3f5f\",\"gridcolor\":\"white\",\"linecolor\":\"white\",\"minorgridcolor\":\"white\",\"startlinecolor\":\"#2a3f5f\"},\"baxis\":{\"endlinecolor\":\"#2a3f5f\",\"gridcolor\":\"white\",\"linecolor\":\"white\",\"minorgridcolor\":\"white\",\"startlinecolor\":\"#2a3f5f\"},\"type\":\"carpet\"}],\"choropleth\":[{\"colorbar\":{\"outlinewidth\":0,\"ticks\":\"\"},\"type\":\"choropleth\"}],\"contour\":[{\"colorbar\":{\"outlinewidth\":0,\"ticks\":\"\"},\"colorscale\":[[0.0,\"#0d0887\"],[0.1111111111111111,\"#46039f\"],[0.2222222222222222,\"#7201a8\"],[0.3333333333333333,\"#9c179e\"],[0.4444444444444444,\"#bd3786\"],[0.5555555555555556,\"#d8576b\"],[0.6666666666666666,\"#ed7953\"],[0.7777777777777778,\"#fb9f3a\"],[0.8888888888888888,\"#fdca26\"],[1.0,\"#f0f921\"]],\"type\":\"contour\"}],\"contourcarpet\":[{\"colorbar\":{\"outlinewidth\":0,\"ticks\":\"\"},\"type\":\"contourcarpet\"}],\"heatmap\":[{\"colorbar\":{\"outlinewidth\":0,\"ticks\":\"\"},\"colorscale\":[[0.0,\"#0d0887\"],[0.1111111111111111,\"#46039f\"],[0.2222222222222222,\"#7201a8\"],[0.3333333333333333,\"#9c179e\"],[0.4444444444444444,\"#bd3786\"],[0.5555555555555556,\"#d8576b\"],[0.6666666666666666,\"#ed7953\"],[0.7777777777777778,\"#fb9f3a\"],[0.8888888888888888,\"#fdca26\"],[1.0,\"#f0f921\"]],\"type\":\"heatmap\"}],\"heatmapgl\":[{\"colorbar\":{\"outlinewidth\":0,\"ticks\":\"\"},\"colorscale\":[[0.0,\"#0d0887\"],[0.1111111111111111,\"#46039f\"],[0.2222222222222222,\"#7201a8\"],[0.3333333333333333,\"#9c179e\"],[0.4444444444444444,\"#bd3786\"],[0.5555555555555556,\"#d8576b\"],[0.6666666666666666,\"#ed7953\"],[0.7777777777777778,\"#fb9f3a\"],[0.8888888888888888,\"#fdca26\"],[1.0,\"#f0f921\"]],\"type\":\"heatmapgl\"}],\"histogram\":[{\"marker\":{\"pattern\":{\"fillmode\":\"overlay\",\"size\":10,\"solidity\":0.2}},\"type\":\"histogram\"}],\"histogram2d\":[{\"colorbar\":{\"outlinewidth\":0,\"ticks\":\"\"},\"colorscale\":[[0.0,\"#0d0887\"],[0.1111111111111111,\"#46039f\"],[0.2222222222222222,\"#7201a8\"],[0.3333333333333333,\"#9c179e\"],[0.4444444444444444,\"#bd3786\"],[0.5555555555555556,\"#d8576b\"],[0.6666666666666666,\"#ed7953\"],[0.7777777777777778,\"#fb9f3a\"],[0.8888888888888888,\"#fdca26\"],[1.0,\"#f0f921\"]],\"type\":\"histogram2d\"}],\"histogram2dcontour\":[{\"colorbar\":{\"outlinewidth\":0,\"ticks\":\"\"},\"colorscale\":[[0.0,\"#0d0887\"],[0.1111111111111111,\"#46039f\"],[0.2222222222222222,\"#7201a8\"],[0.3333333333333333,\"#9c179e\"],[0.4444444444444444,\"#bd3786\"],[0.5555555555555556,\"#d8576b\"],[0.6666666666666666,\"#ed7953\"],[0.7777777777777778,\"#fb9f3a\"],[0.8888888888888888,\"#fdca26\"],[1.0,\"#f0f921\"]],\"type\":\"histogram2dcontour\"}],\"mesh3d\":[{\"colorbar\":{\"outlinewidth\":0,\"ticks\":\"\"},\"type\":\"mesh3d\"}],\"parcoords\":[{\"line\":{\"colorbar\":{\"outlinewidth\":0,\"ticks\":\"\"}},\"type\":\"parcoords\"}],\"pie\":[{\"automargin\":true,\"type\":\"pie\"}],\"scatter\":[{\"marker\":{\"colorbar\":{\"outlinewidth\":0,\"ticks\":\"\"}},\"type\":\"scatter\"}],\"scatter3d\":[{\"line\":{\"colorbar\":{\"outlinewidth\":0,\"ticks\":\"\"}},\"marker\":{\"colorbar\":{\"outlinewidth\":0,\"ticks\":\"\"}},\"type\":\"scatter3d\"}],\"scattercarpet\":[{\"marker\":{\"colorbar\":{\"outlinewidth\":0,\"ticks\":\"\"}},\"type\":\"scattercarpet\"}],\"scattergeo\":[{\"marker\":{\"colorbar\":{\"outlinewidth\":0,\"ticks\":\"\"}},\"type\":\"scattergeo\"}],\"scattergl\":[{\"marker\":{\"colorbar\":{\"outlinewidth\":0,\"ticks\":\"\"}},\"type\":\"scattergl\"}],\"scattermapbox\":[{\"marker\":{\"colorbar\":{\"outlinewidth\":0,\"ticks\":\"\"}},\"type\":\"scattermapbox\"}],\"scatterpolar\":[{\"marker\":{\"colorbar\":{\"outlinewidth\":0,\"ticks\":\"\"}},\"type\":\"scatterpolar\"}],\"scatterpolargl\":[{\"marker\":{\"colorbar\":{\"outlinewidth\":0,\"ticks\":\"\"}},\"type\":\"scatterpolargl\"}],\"scatterternary\":[{\"marker\":{\"colorbar\":{\"outlinewidth\":0,\"ticks\":\"\"}},\"type\":\"scatterternary\"}],\"surface\":[{\"colorbar\":{\"outlinewidth\":0,\"ticks\":\"\"},\"colorscale\":[[0.0,\"#0d0887\"],[0.1111111111111111,\"#46039f\"],[0.2222222222222222,\"#7201a8\"],[0.3333333333333333,\"#9c179e\"],[0.4444444444444444,\"#bd3786\"],[0.5555555555555556,\"#d8576b\"],[0.6666666666666666,\"#ed7953\"],[0.7777777777777778,\"#fb9f3a\"],[0.8888888888888888,\"#fdca26\"],[1.0,\"#f0f921\"]],\"type\":\"surface\"}],\"table\":[{\"cells\":{\"fill\":{\"color\":\"#EBF0F8\"},\"line\":{\"color\":\"white\"}},\"header\":{\"fill\":{\"color\":\"#C8D4E3\"},\"line\":{\"color\":\"white\"}},\"type\":\"table\"}]},\"layout\":{\"annotationdefaults\":{\"arrowcolor\":\"#2a3f5f\",\"arrowhead\":0,\"arrowwidth\":1},\"autotypenumbers\":\"strict\",\"coloraxis\":{\"colorbar\":{\"outlinewidth\":0,\"ticks\":\"\"}},\"colorscale\":{\"diverging\":[[0,\"#8e0152\"],[0.1,\"#c51b7d\"],[0.2,\"#de77ae\"],[0.3,\"#f1b6da\"],[0.4,\"#fde0ef\"],[0.5,\"#f7f7f7\"],[0.6,\"#e6f5d0\"],[0.7,\"#b8e186\"],[0.8,\"#7fbc41\"],[0.9,\"#4d9221\"],[1,\"#276419\"]],\"sequential\":[[0.0,\"#0d0887\"],[0.1111111111111111,\"#46039f\"],[0.2222222222222222,\"#7201a8\"],[0.3333333333333333,\"#9c179e\"],[0.4444444444444444,\"#bd3786\"],[0.5555555555555556,\"#d8576b\"],[0.6666666666666666,\"#ed7953\"],[0.7777777777777778,\"#fb9f3a\"],[0.8888888888888888,\"#fdca26\"],[1.0,\"#f0f921\"]],\"sequentialminus\":[[0.0,\"#0d0887\"],[0.1111111111111111,\"#46039f\"],[0.2222222222222222,\"#7201a8\"],[0.3333333333333333,\"#9c179e\"],[0.4444444444444444,\"#bd3786\"],[0.5555555555555556,\"#d8576b\"],[0.6666666666666666,\"#ed7953\"],[0.7777777777777778,\"#fb9f3a\"],[0.8888888888888888,\"#fdca26\"],[1.0,\"#f0f921\"]]},\"colorway\":[\"#636efa\",\"#EF553B\",\"#00cc96\",\"#ab63fa\",\"#FFA15A\",\"#19d3f3\",\"#FF6692\",\"#B6E880\",\"#FF97FF\",\"#FECB52\"],\"font\":{\"color\":\"#2a3f5f\"},\"geo\":{\"bgcolor\":\"white\",\"lakecolor\":\"white\",\"landcolor\":\"#E5ECF6\",\"showlakes\":true,\"showland\":true,\"subunitcolor\":\"white\"},\"hoverlabel\":{\"align\":\"left\"},\"hovermode\":\"closest\",\"mapbox\":{\"style\":\"light\"},\"paper_bgcolor\":\"white\",\"plot_bgcolor\":\"#E5ECF6\",\"polar\":{\"angularaxis\":{\"gridcolor\":\"white\",\"linecolor\":\"white\",\"ticks\":\"\"},\"bgcolor\":\"#E5ECF6\",\"radialaxis\":{\"gridcolor\":\"white\",\"linecolor\":\"white\",\"ticks\":\"\"}},\"scene\":{\"xaxis\":{\"backgroundcolor\":\"#E5ECF6\",\"gridcolor\":\"white\",\"gridwidth\":2,\"linecolor\":\"white\",\"showbackground\":true,\"ticks\":\"\",\"zerolinecolor\":\"white\"},\"yaxis\":{\"backgroundcolor\":\"#E5ECF6\",\"gridcolor\":\"white\",\"gridwidth\":2,\"linecolor\":\"white\",\"showbackground\":true,\"ticks\":\"\",\"zerolinecolor\":\"white\"},\"zaxis\":{\"backgroundcolor\":\"#E5ECF6\",\"gridcolor\":\"white\",\"gridwidth\":2,\"linecolor\":\"white\",\"showbackground\":true,\"ticks\":\"\",\"zerolinecolor\":\"white\"}},\"shapedefaults\":{\"line\":{\"color\":\"#2a3f5f\"}},\"ternary\":{\"aaxis\":{\"gridcolor\":\"white\",\"linecolor\":\"white\",\"ticks\":\"\"},\"baxis\":{\"gridcolor\":\"white\",\"linecolor\":\"white\",\"ticks\":\"\"},\"bgcolor\":\"#E5ECF6\",\"caxis\":{\"gridcolor\":\"white\",\"linecolor\":\"white\",\"ticks\":\"\"}},\"title\":{\"x\":0.05},\"xaxis\":{\"automargin\":true,\"gridcolor\":\"white\",\"linecolor\":\"white\",\"ticks\":\"\",\"title\":{\"standoff\":15},\"zerolinecolor\":\"white\",\"zerolinewidth\":2},\"yaxis\":{\"automargin\":true,\"gridcolor\":\"white\",\"linecolor\":\"white\",\"ticks\":\"\",\"title\":{\"standoff\":15},\"zerolinecolor\":\"white\",\"zerolinewidth\":2}}},\"title\":{\"text\":\"Example 1D\"},\"xaxis\":{\"title\":{\"text\":\"input\"}},\"yaxis\":{\"title\":{\"text\":\"output\"}}},                        {\"responsive\": true}                    ).then(function(){\n                            \nvar gd = document.getElementById('5b1f42a5-0bac-476a-9753-dd62f2e83036');\nvar x = new MutationObserver(function (mutations, observer) {{\n        var display = window.getComputedStyle(gd).display;\n        if (!display || display === 'none') {{\n            console.log([gd, 'removed!']);\n            Plotly.purge(gd);\n            observer.disconnect();\n        }}\n}});\n\n// Listen for the removal of the full notebook cells\nvar notebookContainer = gd.closest('#notebook-container');\nif (notebookContainer) {{\n    x.observe(notebookContainer, {childList: true});\n}}\n\n// Listen for the clearing of the current output cell\nvar outputEl = gd.closest('.output');\nif (outputEl) {{\n    x.observe(outputEl, {childList: true});\n}}\n\n                        })                };                });            </script>        </div>"
     },
     "metadata": {},
     "output_type": "display_data"
    }
   ],
   "source": [
    "x = np.linspace(-2., 10., 100)\n",
    "x_new = x.reshape((100, -1))\n",
    "z = target_function1d(x_new)\n",
    "\n",
    "data = go.Scatter(x=x, y=z)\n",
    "fig = go.Figure(data=data)\n",
    "fig.update_layout(title=\"Example 1D\", xaxis_title=\"input\", yaxis_title=\"output\")\n",
    "fig.show()"
   ],
   "metadata": {
    "collapsed": false,
    "pycharm": {
     "name": "#%%\n"
    }
   }
  },
  {
   "cell_type": "code",
   "execution_count": 18,
   "outputs": [],
   "source": [
    "def gen_initial_data(n=10):\n",
    "    train_x = torch.rand(n, 1) # [n x 1 x 1]\n",
    "    exact_obj = target_function1d(train_x).unsqueeze(-1) # [n x 1 x 1]\n",
    "    best_observed_value = exact_obj.max().item()\n",
    "    return train_x, exact_obj, best_observed_value"
   ],
   "metadata": {
    "collapsed": false,
    "pycharm": {
     "name": "#%%\n"
    }
   }
  },
  {
   "cell_type": "code",
   "execution_count": 19,
   "outputs": [],
   "source": [
    "def gen_next_points(init_x, init_y, best_init_y, bounds, n_points=1):\n",
    "    single_model = SingleTaskGP(init_x, init_y)\n",
    "    mll = ExactMarginalLogLikelihood(single_model.likelihood, single_model)\n",
    "    fit_gpytorch_model(mll)\n",
    "\n",
    "    EI = qExpectedImprovement(model=single_model, best_f=best_init_y)\n",
    "\n",
    "    candidates, _ = optimize_acqf(acq_function=EI,\n",
    "                                  bounds=bounds,\n",
    "                                  q=n_points,\n",
    "                                  num_restarts=200,\n",
    "                                  raw_samples=512,\n",
    "                                  options={\"batch_limit\": 5, \"maxiter\": 200})\n",
    "    return candidates"
   ],
   "metadata": {
    "collapsed": false,
    "pycharm": {
     "name": "#%%\n"
    }
   }
  },
  {
   "cell_type": "code",
   "execution_count": 20,
   "outputs": [
    {
     "name": "stdout",
     "output_type": "stream",
     "text": [
      "Nr. of optimization run: 0\n",
      "New candidate is: tensor([[2.7578]])\n",
      "Best point performs this way: 1.0488195419311523\n",
      "Nr. of optimization run: 1\n",
      "New candidate is: tensor([[5.7847]])\n",
      "Best point performs this way: 1.0488195419311523\n",
      "Nr. of optimization run: 2\n",
      "New candidate is: tensor([[8.6592]])\n",
      "Best point performs this way: 1.0488195419311523\n",
      "Nr. of optimization run: 3\n",
      "New candidate is: tensor([[4.3954]])\n",
      "Best point performs this way: 1.0488195419311523\n",
      "Nr. of optimization run: 4\n",
      "New candidate is: tensor([[1.9797]])\n",
      "Best point performs this way: 1.4015085697174072\n",
      "Nr. of optimization run: 5\n",
      "New candidate is: tensor([[6.9660]])\n",
      "Best point performs this way: 1.4015085697174072\n",
      "Nr. of optimization run: 6\n",
      "New candidate is: tensor([[10.]])\n",
      "Best point performs this way: 1.4015085697174072\n",
      "Nr. of optimization run: 7\n",
      "New candidate is: tensor([[2.1025]])\n",
      "Best point performs this way: 1.4015085697174072\n",
      "Nr. of optimization run: 8\n",
      "New candidate is: tensor([[1.9636]])\n",
      "Best point performs this way: 1.4015085697174072\n",
      "Nr. of optimization run: 9\n",
      "New candidate is: tensor([[1.9891]])\n",
      "Best point performs this way: 1.4017760753631592\n",
      "Nr. of optimization run: 10\n",
      "New candidate is: tensor([[1.9992]])\n",
      "Best point performs this way: 1.4018948078155518\n",
      "Nr. of optimization run: 11\n",
      "New candidate is: tensor([[1.9895]])\n",
      "Best point performs this way: 1.4018948078155518\n",
      "Nr. of optimization run: 12\n",
      "New candidate is: tensor([[2.0064]])\n",
      "Best point performs this way: 1.4018948078155518\n",
      "Nr. of optimization run: 13\n",
      "New candidate is: tensor([[1.9883]])\n",
      "Best point performs this way: 1.4018948078155518\n",
      "Nr. of optimization run: 14\n",
      "New candidate is: tensor([[2.0039]])\n",
      "Best point performs this way: 1.4018948078155518\n",
      "Nr. of optimization run: 15\n",
      "New candidate is: tensor([[1.9590]])\n",
      "Best point performs this way: 1.4018948078155518\n"
     ]
    }
   ],
   "source": [
    "n_runs = 16\n",
    "\n",
    "init_x, init_y, best_init_y = gen_initial_data(20)\n",
    "bounds = torch.tensor([[0.], [10.]])\n",
    "\n",
    "for i in range(n_runs):\n",
    "    print(f\"Nr. of optimization run: {i}\")\n",
    "    new_candidates = gen_next_points(init_x, init_y, best_init_y, bounds, 1)\n",
    "    new_results = target_function1d(new_candidates).unsqueeze(-1)\n",
    "\n",
    "    print(f\"New candidate is: {new_candidates}\")\n",
    "    init_x = torch.cat([init_x, new_candidates])\n",
    "    init_y = torch.cat([init_y, new_results])\n",
    "    best_init_y = init_y.max().item()\n",
    "    print(f\"Best point performs this way: {best_init_y}\")"
   ],
   "metadata": {
    "collapsed": false,
    "pycharm": {
     "name": "#%%\n"
    }
   }
  },
  {
   "cell_type": "code",
   "execution_count": null,
   "outputs": [],
   "source": [],
   "metadata": {
    "collapsed": false,
    "pycharm": {
     "name": "#%%\n"
    }
   }
  }
 ],
 "metadata": {
  "kernelspec": {
   "display_name": "Python 3",
   "language": "python",
   "name": "python3"
  },
  "language_info": {
   "codemirror_mode": {
    "name": "ipython",
    "version": 2
   },
   "file_extension": ".py",
   "mimetype": "text/x-python",
   "name": "python",
   "nbconvert_exporter": "python",
   "pygments_lexer": "ipython2",
   "version": "2.7.6"
  }
 },
 "nbformat": 4,
 "nbformat_minor": 0
}
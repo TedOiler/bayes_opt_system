{
 "cells": [
  {
   "cell_type": "markdown",
   "source": [
    "# BO for the 2D case\n",
    "\n",
    "This notebook showcases how we can go from the 1D case to the 2D case with minimum changes to the helper functions.\n",
    "\n",
    "This time we are maximizing a simpler bellcurve function."
   ],
   "metadata": {
    "collapsed": false,
    "pycharm": {
     "name": "#%% md\n"
    }
   }
  },
  {
   "cell_type": "code",
   "execution_count": 1,
   "outputs": [],
   "source": [
    "import numpy as np\n",
    "from matplotlib import pyplot as plt\n",
    "from sklearn.gaussian_process.kernels import ConstantKernel\n",
    "from sklearn.gaussian_process.kernels import WhiteKernel\n",
    "from sklearn.gaussian_process.kernels import RBF\n",
    "from sklearn.gaussian_process.kernels import Matern\n",
    "from sklearn.gaussian_process import GaussianProcessRegressor\n",
    "from scipy.stats import norm\n",
    "import warnings\n",
    "import random\n",
    "warnings.filterwarnings(\"ignore\") # Not the best\n",
    "\n",
    "plt.style.use('fivethirtyeight')"
   ],
   "metadata": {
    "collapsed": false,
    "pycharm": {
     "name": "#%%\n"
    }
   }
  },
  {
   "cell_type": "markdown",
   "source": [
    "## 2D function optimization with noise"
   ],
   "metadata": {
    "collapsed": false,
    "pycharm": {
     "name": "#%% md\n"
    }
   }
  },
  {
   "cell_type": "code",
   "execution_count": 2,
   "outputs": [],
   "source": [
    "def objective(x1, x2, noise_scale=1):\n",
    "    noise = np.random.normal(loc=0, scale=noise_scale)\n",
    "    return (4*np.exp(-x1**2) + 6*np.exp(-4*x2**2)) + noise"
   ],
   "metadata": {
    "collapsed": false,
    "pycharm": {
     "name": "#%%\n"
    }
   }
  },
  {
   "cell_type": "code",
   "execution_count": 3,
   "outputs": [],
   "source": [
    "X1_ax = np.arange(-5, 5, 0.1).reshape(-1,1)\n",
    "X2_ax = np.arange(-5, 5, 0.1).reshape(-1,1)\n",
    "X_all = np.array(np.meshgrid(X1_ax.reshape(-1,), X2_ax.reshape(-1,))).T.reshape(-1,2)\n",
    "y_ax = np.array([objective(x1, x2, 0) for x1 in X1_ax for x2 in X2_ax])\n",
    "ynoise = np.array([objective(x1, x2) for x1 in X1_ax for x2 in X2_ax])"
   ],
   "metadata": {
    "collapsed": false,
    "pycharm": {
     "name": "#%%\n"
    }
   }
  },
  {
   "cell_type": "code",
   "execution_count": 4,
   "outputs": [
    {
     "data": {
      "text/plain": "<Figure size 432x288 with 1 Axes>",
      "image/png": "[encoded data removed]"
     },
     "metadata": {},
     "output_type": "display_data"
    }
   ],
   "source": [
    "x = np.arange(-5, 5, 0.1).reshape(-1,1)\n",
    "y = np.arange(-5, 5, 0.1).reshape(-1,1)\n",
    "\n",
    "X, Y = np.meshgrid(x, y)\n",
    "Z = objective(X, Y)\n",
    "fig = plt.figure()\n",
    "ax = plt.axes(projection='3d')\n",
    "ax.contour3D(X, Y, Z, 100, cmap='cool')\n",
    "ax.view_init(20, 35)"
   ],
   "metadata": {
    "collapsed": false,
    "pycharm": {
     "name": "#%%\n"
    }
   }
  },
  {
   "cell_type": "code",
   "execution_count": 5,
   "outputs": [
    {
     "data": {
      "text/plain": "array([[-4.2 ,  0.1 ,  5.76],\n       [ 0.2 , -1.9 ,  3.84],\n       [-0.5 , -1.5 ,  3.12],\n       [ 4.  ,  0.7 ,  0.85],\n       [-3.7 , -0.2 ,  5.11]])"
     },
     "execution_count": 5,
     "metadata": {},
     "output_type": "execute_result"
    }
   ],
   "source": [
    "n = 5\n",
    "idx = random.sample(range(0, len(X_all)-1), n)\n",
    "y_idx = objective(X_all[idx][:, 0], X_all[idx][:, 1], 0)\n",
    "data = np.hstack((X_all[idx], y_idx.reshape(-1,1)))\n",
    "np.round(data,2)"
   ],
   "metadata": {
    "collapsed": false,
    "pycharm": {
     "name": "#%%\n"
    }
   }
  },
  {
   "cell_type": "code",
   "execution_count": 6,
   "outputs": [],
   "source": [
    "X = data[:, :2]\n",
    "y = data[:, -1]"
   ],
   "metadata": {
    "collapsed": false,
    "pycharm": {
     "name": "#%%\n"
    }
   }
  },
  {
   "cell_type": "code",
   "execution_count": 7,
   "outputs": [
    {
     "data": {
      "text/plain": "GaussianProcessRegressor()",
      "text/html": "<style>#sk-container-id-1 {color: black;background-color: white;}#sk-container-id-1 pre{padding: 0;}#sk-container-id-1 div.sk-toggleable {background-color: white;}#sk-container-id-1 label.sk-toggleable__label {cursor: pointer;display: block;width: 100%;margin-bottom: 0;padding: 0.3em;box-sizing: border-box;text-align: center;}#sk-container-id-1 label.sk-toggleable__label-arrow:before {content: \"▸\";float: left;margin-right: 0.25em;color: #696969;}#sk-container-id-1 label.sk-toggleable__label-arrow:hover:before {color: black;}#sk-container-id-1 div.sk-estimator:hover label.sk-toggleable__label-arrow:before {color: black;}#sk-container-id-1 div.sk-toggleable__content {max-height: 0;max-width: 0;overflow: hidden;text-align: left;background-color: #f0f8ff;}#sk-container-id-1 div.sk-toggleable__content pre {margin: 0.2em;color: black;border-radius: 0.25em;background-color: #f0f8ff;}#sk-container-id-1 input.sk-toggleable__control:checked~div.sk-toggleable__content {max-height: 200px;max-width: 100%;overflow: auto;}#sk-container-id-1 input.sk-toggleable__control:checked~label.sk-toggleable__label-arrow:before {content: \"▾\";}#sk-container-id-1 div.sk-estimator input.sk-toggleable__control:checked~label.sk-toggleable__label {background-color: #d4ebff;}#sk-container-id-1 div.sk-label input.sk-toggleable__control:checked~label.sk-toggleable__label {background-color: #d4ebff;}#sk-container-id-1 input.sk-hidden--visually {border: 0;clip: rect(1px 1px 1px 1px);clip: rect(1px, 1px, 1px, 1px);height: 1px;margin: -1px;overflow: hidden;padding: 0;position: absolute;width: 1px;}#sk-container-id-1 div.sk-estimator {font-family: monospace;background-color: #f0f8ff;border: 1px dotted black;border-radius: 0.25em;box-sizing: border-box;margin-bottom: 0.5em;}#sk-container-id-1 div.sk-estimator:hover {background-color: #d4ebff;}#sk-container-id-1 div.sk-parallel-item::after {content: \"\";width: 100%;border-bottom: 1px solid gray;flex-grow: 1;}#sk-container-id-1 div.sk-label:hover label.sk-toggleable__label {background-color: #d4ebff;}#sk-container-id-1 div.sk-serial::before {content: \"\";position: absolute;border-left: 1px solid gray;box-sizing: border-box;top: 0;bottom: 0;left: 50%;z-index: 0;}#sk-container-id-1 div.sk-serial {display: flex;flex-direction: column;align-items: center;background-color: white;padding-right: 0.2em;padding-left: 0.2em;position: relative;}#sk-container-id-1 div.sk-item {position: relative;z-index: 1;}#sk-container-id-1 div.sk-parallel {display: flex;align-items: stretch;justify-content: center;background-color: white;position: relative;}#sk-container-id-1 div.sk-item::before, #sk-container-id-1 div.sk-parallel-item::before {content: \"\";position: absolute;border-left: 1px solid gray;box-sizing: border-box;top: 0;bottom: 0;left: 50%;z-index: -1;}#sk-container-id-1 div.sk-parallel-item {display: flex;flex-direction: column;z-index: 1;position: relative;background-color: white;}#sk-container-id-1 div.sk-parallel-item:first-child::after {align-self: flex-end;width: 50%;}#sk-container-id-1 div.sk-parallel-item:last-child::after {align-self: flex-start;width: 50%;}#sk-container-id-1 div.sk-parallel-item:only-child::after {width: 0;}#sk-container-id-1 div.sk-dashed-wrapped {border: 1px dashed gray;margin: 0 0.4em 0.5em 0.4em;box-sizing: border-box;padding-bottom: 0.4em;background-color: white;}#sk-container-id-1 div.sk-label label {font-family: monospace;font-weight: bold;display: inline-block;line-height: 1.2em;}#sk-container-id-1 div.sk-label-container {text-align: center;}#sk-container-id-1 div.sk-container {/* jupyter's `normalize.less` sets `[hidden] { display: none; }` but bootstrap.min.css set `[hidden] { display: none !important; }` so we also need the `!important` here to be able to override the default hidden behavior on the sphinx rendered scikit-learn.org. See: https://github.com/scikit-learn/scikit-learn/issues/21755 */display: inline-block !important;position: relative;}#sk-container-id-1 div.sk-text-repr-fallback {display: none;}</style><div id=\"sk-container-id-1\" class=\"sk-top-container\"><div class=\"sk-text-repr-fallback\"><pre>GaussianProcessRegressor()</pre><b>In a Jupyter environment, please rerun this cell to show the HTML representation or trust the notebook. <br />On GitHub, the HTML representation is unable to render, please try loading this page with nbviewer.org.</b></div><div class=\"sk-container\" hidden><div class=\"sk-item\"><div class=\"sk-estimator sk-toggleable\"><input class=\"sk-toggleable__control sk-hidden--visually\" id=\"sk-estimator-id-1\" type=\"checkbox\" checked><label for=\"sk-estimator-id-1\" class=\"sk-toggleable__label sk-toggleable__label-arrow\">GaussianProcessRegressor</label><div class=\"sk-toggleable__content\"><pre>GaussianProcessRegressor()</pre></div></div></div></div></div>"
     },
     "execution_count": 7,
     "metadata": {},
     "output_type": "execute_result"
    }
   ],
   "source": [
    "model = GaussianProcessRegressor()\n",
    "model.fit(X, y)"
   ],
   "metadata": {
    "collapsed": false,
    "pycharm": {
     "name": "#%%\n"
    }
   }
  },
  {
   "cell_type": "markdown",
   "source": [
    "# *Helpers*"
   ],
   "metadata": {
    "collapsed": false,
    "pycharm": {
     "name": "#%% md\n"
    }
   }
  },
  {
   "cell_type": "code",
   "execution_count": 53,
   "outputs": [],
   "source": [
    "def objective(x1, x2, noise_scale=1):\n",
    "    # max (x1, x2) = (0, 0)\n",
    "    noise = np.random.normal(loc=0, scale=noise_scale)\n",
    "    return (4*np.exp(-1*x1**2) + 6*np.exp(-4*x2**2)) + noise\n",
    "    # return (x*np.sin(10*x)) + noise\n",
    "\n",
    "\n",
    "def surrogate(model, X):\n",
    "    return model.predict(X, return_std=True)\n",
    "\n",
    "\n",
    "def acq_pi(X, Xsamples, model):\n",
    "    yhat, _ = surrogate(model, X)\n",
    "    best = max(yhat) # calculate the best so far\n",
    "\n",
    "    mu, std = surrogate(model, Xsamples)\n",
    "    mu = mu.reshape(-1,1)[:, 0]\n",
    "    gamma = (mu - best) / (std + 1E-9)\n",
    "    probs = norm.cdf(gamma) # add a very small number to std to avoid dividing with 0\n",
    "    return probs\n",
    "\n",
    "\n",
    "def acq_ei(X, Xsamples, model):\n",
    "    yhat, _ = surrogate(model, X)\n",
    "    best = max(yhat) # calculate the best so far\n",
    "\n",
    "    mu, std = surrogate(model, Xsamples)\n",
    "    mu = mu.reshape(-1,1)[:, 0]\n",
    "    gamma = (mu-best)/(std + 1E-9) # add a very small number to std to avoid dividing with 0\n",
    "    probs = std * (gamma * norm.cdf(gamma)) + norm.pdf(gamma)\n",
    "    return probs\n",
    "\n",
    "\n",
    "def opt_acq(X, y, model, acq, low, high):\n",
    "    Xsamples = get_random_X(low=low, high=high, samples=10000)\n",
    "    scores = acq(X, Xsamples, model)\n",
    "    ix = np.argmax(scores)\n",
    "    return Xsamples[ix]\n",
    "\n",
    "def get_random_X(low, high, samples):\n",
    "    ALL = np.array(np.meshgrid(*[np.arange(low[k], high[k], 0.01) for k in range(len(low))])).T.reshape(-1,len(low))\n",
    "    idx = random.sample(range(0, ALL.shape[0]-1), samples)\n",
    "    return ALL[idx]"
   ],
   "metadata": {
    "collapsed": false,
    "pycharm": {
     "name": "#%%\n"
    }
   }
  },
  {
   "cell_type": "markdown",
   "source": [
    "# Optimization loop"
   ],
   "metadata": {
    "collapsed": false,
    "pycharm": {
     "name": "#%% md\n"
    }
   }
  },
  {
   "cell_type": "code",
   "execution_count": 54,
   "outputs": [],
   "source": [
    "def random_start_loop(low=[-5, -5], high=[5, 5], n=5, noise=0.01, kernel=None):\n",
    "    X = get_random_X(low=low, high=high, samples=n)\n",
    "    y = objective(X[:, 0], X[:, 1], noise).reshape(-1,1) # Evaluation with noise\n",
    "    model = GaussianProcessRegressor(kernel=kernel)\n",
    "    model.fit(X, y)\n",
    "    return X, y, model\n",
    "\n",
    "\n",
    "def bo_loop(n, X, y, model, noise, acq, low=[-5, -5], high=[5, 5]):\n",
    "    for i in range(n):\n",
    "        x = opt_acq(X=X, y=y, model=model, acq=acq, low=low, high=high)\n",
    "        actual = objective(x[0], x[1], noise)\n",
    "        est, _ = surrogate(model, np.array(x).reshape(-1,len(low)))\n",
    "\n",
    "        X = np.vstack((X, x))\n",
    "        y = np.vstack((y, [[actual]]))\n",
    "        model.fit(X, y)\n",
    "    return X, y, model"
   ],
   "metadata": {
    "collapsed": false,
    "pycharm": {
     "name": "#%%\n"
    }
   }
  },
  {
   "cell_type": "markdown",
   "source": [
    "# Initial Sampling"
   ],
   "metadata": {
    "collapsed": false,
    "pycharm": {
     "name": "#%% md\n"
    }
   }
  },
  {
   "cell_type": "code",
   "execution_count": 61,
   "outputs": [],
   "source": [
    "kernel = None\n",
    "noise_lvl = 0.01\n",
    "X_init, y_init, model = random_start_loop(low=[-5, -5], high=[5, 5], n=10, noise=noise_lvl, kernel=kernel)"
   ],
   "metadata": {
    "collapsed": false,
    "pycharm": {
     "name": "#%%\n"
    }
   }
  },
  {
   "cell_type": "code",
   "execution_count": 62,
   "outputs": [
    {
     "data": {
      "text/plain": "array([[4.80229585],\n       [0.00721975],\n       [1.97608215],\n       [4.48932026],\n       [1.66946508],\n       [0.05160177],\n       [3.21441712],\n       [0.00691801],\n       [4.5500825 ],\n       [0.00691652]])"
     },
     "execution_count": 62,
     "metadata": {},
     "output_type": "execute_result"
    }
   ],
   "source": [
    "y_init"
   ],
   "metadata": {
    "collapsed": false,
    "pycharm": {
     "name": "#%%\n"
    }
   }
  },
  {
   "cell_type": "markdown",
   "source": [
    "### Optimization loop"
   ],
   "metadata": {
    "collapsed": false,
    "pycharm": {
     "name": "#%% md\n"
    }
   }
  },
  {
   "cell_type": "code",
   "execution_count": 63,
   "outputs": [],
   "source": [
    "X, y, model = bo_loop(n=20, X=X_init, y=y_init, model=model, noise=noise_lvl, acq=acq_pi, low=[-5, -5], high=[5, 5])"
   ],
   "metadata": {
    "collapsed": false,
    "pycharm": {
     "name": "#%%\n"
    }
   }
  },
  {
   "cell_type": "code",
   "execution_count": 64,
   "outputs": [
    {
     "name": "stdout",
     "output_type": "stream",
     "text": [
      "[-0. -0.]\n",
      "[10.00944802]\n"
     ]
    }
   ],
   "source": [
    "print(np.round(X[np.argmax(y)],2))\n",
    "print(y[np.argmax(y)])"
   ],
   "metadata": {
    "collapsed": false,
    "pycharm": {
     "name": "#%%\n"
    }
   }
  },
  {
   "cell_type": "code",
   "execution_count": 66,
   "outputs": [
    {
     "data": {
      "text/plain": "array([[4.80229585e+00],\n       [7.21974865e-03],\n       [1.97608215e+00],\n       [4.48932026e+00],\n       [1.66946508e+00],\n       [5.16017673e-02],\n       [3.21441712e+00],\n       [6.91800862e-03],\n       [4.55008250e+00],\n       [6.91651912e-03],\n       [5.45254119e+00],\n       [6.59582638e+00],\n       [8.08894086e+00],\n       [9.36576946e+00],\n       [8.39403119e+00],\n       [9.95534763e+00],\n       [9.99234272e+00],\n       [4.67145948e-01],\n       [1.09799323e+00],\n       [9.93232201e+00],\n       [6.65138933e-01],\n       [1.05689091e+00],\n       [1.13185878e-01],\n       [9.88985214e-02],\n       [1.00094480e+01],\n       [4.25911660e-02],\n       [8.12645874e-01],\n       [5.58122096e+00],\n       [2.93067331e-01],\n       [5.30936282e-01]])"
     },
     "execution_count": 66,
     "metadata": {},
     "output_type": "execute_result"
    }
   ],
   "source": [
    "y"
   ],
   "metadata": {
    "collapsed": false,
    "pycharm": {
     "name": "#%%\n"
    }
   }
  },
  {
   "cell_type": "code",
   "execution_count": 32,
   "outputs": [
    {
     "data": {
      "text/plain": "<Figure size 432x288 with 2 Axes>",
      "image/png": "[encoded data removed]"
     },
     "metadata": {},
     "output_type": "display_data"
    }
   ],
   "source": [
    "X1_ax = np.arange(-5, 5, 0.1).reshape(-1,1)\n",
    "X2_ax = np.arange(-5, 5, 0.1).reshape(-1,1)\n",
    "X_mesh, Y_mesh = np.meshgrid(X1_ax, X2_ax)\n",
    "Z = objective(X_mesh, Y_mesh)\n",
    "fig, ax=plt.subplots(1,1)\n",
    "contours = plt.contour(X_mesh, Y_mesh, Z, 3, colors='black')\n",
    "plt.scatter(X[5:, 0], X[5:, 1], c=np.arange(-5, 5.9, 0.2), cmap='cool')\n",
    "plt.colorbar().set_ticks([])\n",
    "plt.clabel(contours, inline=True, fontsize=10)\n",
    "zoom = 5.\n",
    "plt.imshow(Z, extent=[-zoom, zoom, -zoom, zoom], origin='lower',\n",
    "           cmap='binary', alpha=0.9)\n",
    "plt.show()"
   ],
   "metadata": {
    "collapsed": false,
    "pycharm": {
     "name": "#%%\n"
    }
   }
  },
  {
   "cell_type": "code",
   "execution_count": null,
   "outputs": [],
   "source": [],
   "metadata": {
    "collapsed": false,
    "pycharm": {
     "name": "#%%\n"
    }
   }
  }
 ],
 "metadata": {
  "kernelspec": {
   "display_name": "Python 3",
   "language": "python",
   "name": "python3"
  },
  "language_info": {
   "codemirror_mode": {
    "name": "ipython",
    "version": 2
   },
   "file_extension": ".py",
   "mimetype": "text/x-python",
   "name": "python",
   "nbconvert_exporter": "python",
   "pygments_lexer": "ipython2",
   "version": "2.7.6"
  }
 },
 "nbformat": 4,
 "nbformat_minor": 0
}
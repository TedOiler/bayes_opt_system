{
 "cells": [
  {
   "cell_type": "code",
   "execution_count": null,
   "metadata": {
    "collapsed": true
   },
   "outputs": [],
   "source": [
    "import os\n",
    "import torch\n",
    "import numpy as np\n",
    "import plotly\n",
    "import warnings\n",
    "warnings.filterwarnings('ignore')\n",
    "import plotly.graph_objects as go\n",
    "import plotly.express as px\n",
    "# px.defaults.template = \"ggplot2\"\n",
    "\n",
    "from botorch.models import SingleTaskGP, ModelListGP\n",
    "from gpytorch.mlls.exact_marginal_log_likelihood import ExactMarginalLogLikelihood\n",
    "from botorch import fit_gpytorch_model\n",
    "from botorch.acquisition.monte_carlo import qExpectedImprovement\n",
    "from botorch.optim import optimize_acqf\n",
    "import math"
   ]
  },
  {
   "cell_type": "code",
   "execution_count": null,
   "outputs": [],
   "source": [
    "def rosenbrock_2d(x_ax, y_ax, x_ax_len=10, y_ax_len=10):\n",
    "    # max (x,y) = (1,1)\n",
    "    full_result = []\n",
    "    for x in x_ax.reshape((x_ax_len, -1)):\n",
    "        row_result = []\n",
    "        for y in x_ax.reshape((y_ax_len, -1)):\n",
    "            row_result.append(\n",
    "                -((1-x[0])**2 + 0.03*(y[0] - x[0]**2)**2)+5\n",
    "            )\n",
    "        full_result.append(row_result)\n",
    "    return torch.tensor(full_result)\n",
    "\n",
    "def bellcurve_2d(x_ax, y_ax, x_ax_len=10, y_ax_len=10):\n",
    "    # max (x,y) = (0,0)\n",
    "    full_result = []\n",
    "    for x in x_ax.reshape((x_ax_len, -1)):\n",
    "        row_result = []\n",
    "        for y in x_ax.reshape((y_ax_len, -1)):\n",
    "            row_result.append(\n",
    "                5*math.exp((-x[0]**2)) + 7*math.exp((-4*y[0]**2))\n",
    "            )\n",
    "        full_result.append(row_result)\n",
    "    return torch.tensor(full_result)"
   ],
   "metadata": {
    "collapsed": false,
    "pycharm": {
     "name": "#%%\n"
    }
   }
  },
  {
   "cell_type": "code",
   "execution_count": null,
   "outputs": [],
   "source": [
    "array_len = 500\n",
    "x_ax = np.linspace(-5., 5., array_len)\n",
    "y_ax = np.linspace(-5., 5., array_len)\n",
    "z=bellcurve_2d(x_ax, y_ax, x_ax_len=array_len, y_ax_len=array_len)\n",
    "\n",
    "data = go.Contour(\n",
    "    z=z,\n",
    "    x=x_ax,\n",
    "    y=y_ax,\n",
    "    line_smoothing=0.85,\n",
    "    contours=dict(\n",
    "        coloring ='heatmap',\n",
    "        showlabels = True,\n",
    "        labelfont = dict(size=12, color='white')\n",
    "    )\n",
    ")\n",
    "\n",
    "fig = go.Figure(data=data)\n",
    "fig.update_layout(title=\"Example 2D\")\n",
    "fig.show()"
   ],
   "metadata": {
    "collapsed": false,
    "pycharm": {
     "name": "#%%\n"
    }
   }
  },
  {
   "cell_type": "code",
   "execution_count": null,
   "outputs": [],
   "source": [
    "def gen_initial_data(n=10):\n",
    "    train_x = torch.rand(n, 1) # [n x 1 x 1]\n",
    "    exact_obj = target_function1d(train_x).unsqueeze(-1) # [n x 1 x 1]\n",
    "    best_observed_value = exact_obj.max().item()\n",
    "    return train_x, exact_obj, best_observed_value"
   ],
   "metadata": {
    "collapsed": false,
    "pycharm": {
     "name": "#%%\n"
    }
   }
  },
  {
   "cell_type": "code",
   "execution_count": null,
   "outputs": [],
   "source": [
    "def gen_next_points(init_x, init_y, best_init_y, bounds, n_points=1):\n",
    "    single_model = SingleTaskGP(init_x, init_y)\n",
    "    mll = ExactMarginalLogLikelihood(single_model.likelihood, single_model)\n",
    "    fit_gpytorch_model(mll)\n",
    "\n",
    "    EI = qExpectedImprovement(model=single_model, best_f=best_init_y)\n",
    "\n",
    "    candidates, _ = optimize_acqf(acq_function=EI,\n",
    "                                  bounds=bounds,\n",
    "                                  q=n_points,\n",
    "                                  num_restarts=200,\n",
    "                                  raw_samples=512,\n",
    "                                  options={\"batch_limit\": 5, \"maxiter\": 200})\n",
    "    return candidates"
   ],
   "metadata": {
    "collapsed": false,
    "pycharm": {
     "name": "#%%\n"
    }
   }
  },
  {
   "cell_type": "code",
   "execution_count": null,
   "outputs": [],
   "source": [
    "n_runs = 16\n",
    "\n",
    "init_x, init_y, best_init_y = gen_initial_data(20)\n",
    "bounds = torch.tensor([[0.], [10.]])\n",
    "\n",
    "for i in range(n_runs):\n",
    "    print(f\"Nr. of optimization run: {i}\")\n",
    "    new_candidates = gen_next_points(init_x, init_y, best_init_y, bounds, 1)\n",
    "    new_results = target_function1d(new_candidates).unsqueeze(-1)\n",
    "\n",
    "    print(f\"New candidate is: {new_candidates}\")\n",
    "    init_x = torch.cat([init_x, new_candidates])\n",
    "    init_y = torch.cat([init_y, new_results])\n",
    "    best_init_y = init_y.max().item()\n",
    "    print(f\"Best point performs this way: {best_init_y}\")"
   ],
   "metadata": {
    "collapsed": false,
    "pycharm": {
     "name": "#%%\n"
    }
   }
  }
 ],
 "metadata": {
  "kernelspec": {
   "display_name": "Python 3",
   "language": "python",
   "name": "python3"
  },
  "language_info": {
   "codemirror_mode": {
    "name": "ipython",
    "version": 2
   },
   "file_extension": ".py",
   "mimetype": "text/x-python",
   "name": "python",
   "nbconvert_exporter": "python",
   "pygments_lexer": "ipython2",
   "version": "2.7.6"
  }
 },
 "nbformat": 4,
 "nbformat_minor": 0
}